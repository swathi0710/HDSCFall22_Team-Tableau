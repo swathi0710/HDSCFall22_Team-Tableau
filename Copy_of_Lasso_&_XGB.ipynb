{
  "nbformat": 4,
  "nbformat_minor": 0,
  "metadata": {
    "colab": {
      "provenance": []
    },
    "kernelspec": {
      "name": "python3",
      "display_name": "Python 3"
    },
    "language_info": {
      "name": "python"
    }
  },
  "cells": [
    {
      "cell_type": "code",
      "execution_count": null,
      "metadata": {
        "id": "m0Zwy-yI0GKX"
      },
      "outputs": [],
      "source": [
        "import pandas as pd\n",
        "import numpy as np\n",
        "import matplotlib.pyplot as plt\n",
        "import seaborn as sns"
      ]
    },
    {
      "cell_type": "code",
      "source": [
        "!pip install --upgrade xgboost"
      ],
      "metadata": {
        "colab": {
          "base_uri": "https://localhost:8080/",
          "height": 338
        },
        "id": "KD-jyBiagsUf",
        "outputId": "9493f12d-3ab3-46e5-bdcf-68a62cb8ee2f"
      },
      "execution_count": null,
      "outputs": [
        {
          "output_type": "stream",
          "name": "stdout",
          "text": [
            "Looking in indexes: https://pypi.org/simple, https://us-python.pkg.dev/colab-wheels/public/simple/\n",
            "Requirement already satisfied: xgboost in /usr/local/lib/python3.8/dist-packages (0.90)\n",
            "Collecting xgboost\n",
            "  Downloading xgboost-1.7.2-py3-none-manylinux2014_x86_64.whl (193.6 MB)\n",
            "\u001b[K     |████████████████████████████████| 193.6 MB 60 kB/s \n",
            "\u001b[?25hRequirement already satisfied: scipy in /usr/local/lib/python3.8/dist-packages (from xgboost) (1.7.3)\n",
            "Requirement already satisfied: numpy in /usr/local/lib/python3.8/dist-packages (from xgboost) (1.21.6)\n",
            "Installing collected packages: xgboost\n",
            "  Attempting uninstall: xgboost\n",
            "    Found existing installation: xgboost 0.90\n",
            "    Uninstalling xgboost-0.90:\n",
            "      Successfully uninstalled xgboost-0.90\n",
            "Successfully installed xgboost-1.7.2\n"
          ]
        },
        {
          "output_type": "display_data",
          "data": {
            "application/vnd.colab-display-data+json": {
              "pip_warning": {
                "packages": [
                  "xgboost"
                ]
              }
            }
          },
          "metadata": {}
        }
      ]
    },
    {
      "cell_type": "code",
      "source": [
        "\n",
        "# Creating a data wrangle function.\n",
        "def wrangle(filepath):\n",
        "    # importing the dataset.\n",
        "    df = pd.read_csv(filepath)\n",
        "    \n",
        "    #Can see all the columns with this code.\n",
        "    #pd.pandas.set_option('display.max_rows', None)\n",
        "    \n",
        "    # Below code gives percentage of null in every column\n",
        "    null_percentage = df.isnull().sum()/df.shape[0]*100\n",
        "    # Below code gives list of columns having more than 60% null\n",
        "    col_to_drop = null_percentage[null_percentage>60].keys()\n",
        "    df.drop(col_to_drop, axis=1,inplace=True)\n",
        "    \n",
        "    #Removing all the columns which are less than three.\n",
        "    df.drop(columns=[\"Street\"],inplace = True)\n",
        "    #Removing columns with high cardinality.\n",
        "    df.drop(columns=[\"Neighborhood\",\"Exterior2nd\",\"Utilities\",\"CentralAir\"],inplace=True)\n",
        "    print(col_to_drop)\n",
        "    return df\n"
      ],
      "metadata": {
        "id": "RPBZrOPO0Teu"
      },
      "execution_count": null,
      "outputs": []
    },
    {
      "cell_type": "code",
      "source": [
        "df = wrangle(\"https://raw.githubusercontent.com/swathi0710/HDSCFall22_Team-Tableau/main/train.csv\")"
      ],
      "metadata": {
        "colab": {
          "base_uri": "https://localhost:8080/"
        },
        "id": "B-MHBK6n0WBb",
        "outputId": "9526a97a-c59c-4753-f8c6-3fe50f304dca"
      },
      "execution_count": null,
      "outputs": [
        {
          "output_type": "stream",
          "name": "stdout",
          "text": [
            "Index(['Alley', 'PoolQC', 'Fence', 'MiscFeature'], dtype='object')\n"
          ]
        }
      ]
    },
    {
      "cell_type": "code",
      "source": [
        "df.select_dtypes(\"object\").nunique()"
      ],
      "metadata": {
        "id": "SPWOIF3Q0kWX",
        "colab": {
          "base_uri": "https://localhost:8080/"
        },
        "outputId": "b1cc825d-a742-4e1b-dbbe-412f7ebdac58"
      },
      "execution_count": null,
      "outputs": [
        {
          "output_type": "execute_result",
          "data": {
            "text/plain": [
              "MSZoning          5\n",
              "LotShape          4\n",
              "LandContour       4\n",
              "LotConfig         5\n",
              "LandSlope         3\n",
              "Condition1        9\n",
              "Condition2        8\n",
              "BldgType          5\n",
              "HouseStyle        8\n",
              "RoofStyle         6\n",
              "RoofMatl          8\n",
              "Exterior1st      15\n",
              "MasVnrType        4\n",
              "ExterQual         4\n",
              "ExterCond         5\n",
              "Foundation        6\n",
              "BsmtQual          4\n",
              "BsmtCond          4\n",
              "BsmtExposure      4\n",
              "BsmtFinType1      6\n",
              "BsmtFinType2      6\n",
              "Heating           6\n",
              "HeatingQC         5\n",
              "Electrical        5\n",
              "KitchenQual       4\n",
              "Functional        7\n",
              "FireplaceQu       5\n",
              "GarageType        6\n",
              "GarageFinish      3\n",
              "GarageQual        5\n",
              "GarageCond        5\n",
              "PavedDrive        3\n",
              "SaleType          9\n",
              "SaleCondition     6\n",
              "dtype: int64"
            ]
          },
          "metadata": {},
          "execution_count": 4
        }
      ]
    },
    {
      "cell_type": "code",
      "source": [
        "na=df.isna().sum().sort_values(ascending=False)\n",
        "na"
      ],
      "metadata": {
        "id": "ms-ayDpP0v31",
        "colab": {
          "base_uri": "https://localhost:8080/"
        },
        "outputId": "1067e2af-2795-494c-d038-7427dc262640"
      },
      "execution_count": null,
      "outputs": [
        {
          "output_type": "execute_result",
          "data": {
            "text/plain": [
              "FireplaceQu    690\n",
              "LotFrontage    259\n",
              "GarageCond      81\n",
              "GarageType      81\n",
              "GarageYrBlt     81\n",
              "              ... \n",
              "Heating          0\n",
              "HeatingQC        0\n",
              "MSSubClass       0\n",
              "1stFlrSF         0\n",
              "SalePrice        0\n",
              "Length: 72, dtype: int64"
            ]
          },
          "metadata": {},
          "execution_count": 5
        }
      ]
    },
    {
      "cell_type": "code",
      "source": [
        "df = df.replace(' ', np.nan)"
      ],
      "metadata": {
        "id": "9Nhtrfc24r_B"
      },
      "execution_count": null,
      "outputs": []
    },
    {
      "cell_type": "code",
      "source": [
        "cat=df.select_dtypes(\"object\")\n",
        "[df[x].replace(np.nan, 'NA', inplace=True) for x in cat.columns]"
      ],
      "metadata": {
        "id": "NiS31_ih4wzj",
        "colab": {
          "base_uri": "https://localhost:8080/"
        },
        "outputId": "3ad06019-77ab-439e-87d3-f473b01367f6"
      },
      "execution_count": null,
      "outputs": [
        {
          "output_type": "execute_result",
          "data": {
            "text/plain": [
              "[None,\n",
              " None,\n",
              " None,\n",
              " None,\n",
              " None,\n",
              " None,\n",
              " None,\n",
              " None,\n",
              " None,\n",
              " None,\n",
              " None,\n",
              " None,\n",
              " None,\n",
              " None,\n",
              " None,\n",
              " None,\n",
              " None,\n",
              " None,\n",
              " None,\n",
              " None,\n",
              " None,\n",
              " None,\n",
              " None,\n",
              " None,\n",
              " None,\n",
              " None,\n",
              " None,\n",
              " None,\n",
              " None,\n",
              " None,\n",
              " None,\n",
              " None,\n",
              " None,\n",
              " None]"
            ]
          },
          "metadata": {},
          "execution_count": 7
        }
      ]
    },
    {
      "cell_type": "code",
      "source": [
        "num_data=df.select_dtypes(\"int64\")\n",
        "[df[col].replace(np.nan,'0.0', inplace=True) for col in num_data]"
      ],
      "metadata": {
        "id": "2JEIyfnm5BMZ",
        "colab": {
          "base_uri": "https://localhost:8080/"
        },
        "outputId": "598c1672-56e2-4493-d7f5-f034db8d3f0f"
      },
      "execution_count": null,
      "outputs": [
        {
          "output_type": "execute_result",
          "data": {
            "text/plain": [
              "[None,\n",
              " None,\n",
              " None,\n",
              " None,\n",
              " None,\n",
              " None,\n",
              " None,\n",
              " None,\n",
              " None,\n",
              " None,\n",
              " None,\n",
              " None,\n",
              " None,\n",
              " None,\n",
              " None,\n",
              " None,\n",
              " None,\n",
              " None,\n",
              " None,\n",
              " None,\n",
              " None,\n",
              " None,\n",
              " None,\n",
              " None,\n",
              " None,\n",
              " None,\n",
              " None,\n",
              " None,\n",
              " None,\n",
              " None,\n",
              " None,\n",
              " None,\n",
              " None,\n",
              " None,\n",
              " None]"
            ]
          },
          "metadata": {},
          "execution_count": 8
        }
      ]
    },
    {
      "cell_type": "code",
      "source": [
        "df[\"GarageYrBlt\"].replace(np.nan,'0.0', inplace=True)\n",
        "df[\"MasVnrArea\"].replace(np.nan,'None', inplace=True)"
      ],
      "metadata": {
        "id": "-GLhGwZW5ILr"
      },
      "execution_count": null,
      "outputs": []
    },
    {
      "cell_type": "code",
      "source": [
        "df.to_csv(\"PremierProject.csv\")"
      ],
      "metadata": {
        "id": "AuiuDfk_mfVA"
      },
      "execution_count": null,
      "outputs": []
    },
    {
      "cell_type": "markdown",
      "source": [
        "Import Cleaned file"
      ],
      "metadata": {
        "id": "MIZ1TwMSFdVx"
      }
    },
    {
      "cell_type": "code",
      "source": [
        "df=pd.read_csv(\"PremierProject.csv\")"
      ],
      "metadata": {
        "id": "nS9O3ymImkSI"
      },
      "execution_count": null,
      "outputs": []
    },
    {
      "cell_type": "markdown",
      "source": [
        "Check unique values in ordinal features and convert them into numerical values"
      ],
      "metadata": {
        "id": "eROzKSzoFr8q"
      }
    },
    {
      "cell_type": "code",
      "source": [
        "df['FireplaceQu'].unique()"
      ],
      "metadata": {
        "colab": {
          "base_uri": "https://localhost:8080/"
        },
        "id": "pNlpg1VOlETV",
        "outputId": "9aac45e2-cd79-4986-ae4e-7689d79aca59"
      },
      "execution_count": null,
      "outputs": [
        {
          "output_type": "execute_result",
          "data": {
            "text/plain": [
              "array([nan, 'TA', 'Gd', 'Fa', 'Ex', 'Po'], dtype=object)"
            ]
          },
          "metadata": {},
          "execution_count": 12
        }
      ]
    },
    {
      "cell_type": "code",
      "source": [
        "for col in ['KitchenQual','FireplaceQu','GarageQual', 'GarageCond','BsmtQual','BsmtCond',\n",
        "               'HeatingQC','ExterQual','ExterCond',]:\n",
        "    df[col] = df[col].replace({'Ex':5,'Gd':4,'TA': 3,'Fa': 2,'Po': 1,'NA':0}).fillna(0)"
      ],
      "metadata": {
        "id": "2W-eMxjM5PN-"
      },
      "execution_count": null,
      "outputs": []
    },
    {
      "cell_type": "markdown",
      "source": [
        "Convert float into int columns"
      ],
      "metadata": {
        "id": "fJP21GS4GAn_"
      }
    },
    {
      "cell_type": "code",
      "source": [
        "for col in ['KitchenQual','FireplaceQu','GarageQual', 'GarageCond','BsmtQual','BsmtCond',\n",
        "               'HeatingQC','ExterQual','ExterCond',]:\n",
        "               df[col]=df[col].astype(int)"
      ],
      "metadata": {
        "id": "pJRUoF-2u1Z7"
      },
      "execution_count": null,
      "outputs": []
    },
    {
      "cell_type": "markdown",
      "source": [
        "Check correlation \n"
      ],
      "metadata": {
        "id": "bMHvbH9KF6CL"
      }
    },
    {
      "cell_type": "code",
      "source": [
        "corr=df.corr()\n",
        "corr=corr.sort_values('SalePrice', ascending=False)\n",
        "plt.figure(figsize=(8,10))\n",
        "sns.barplot( corr.SalePrice[1:], corr.index[1:], orient='h')\n",
        "plt.show()"
      ],
      "metadata": {
        "colab": {
          "base_uri": "https://localhost:8080/",
          "height": 662
        },
        "id": "bgJbJpplmXWV",
        "outputId": "c9eb8eac-ff75-42dd-8008-81fb39a47785"
      },
      "execution_count": null,
      "outputs": [
        {
          "output_type": "stream",
          "name": "stderr",
          "text": [
            "/usr/local/lib/python3.8/dist-packages/seaborn/_decorators.py:36: FutureWarning: Pass the following variables as keyword args: x, y. From version 0.12, the only valid positional argument will be `data`, and passing other arguments without an explicit keyword will result in an error or misinterpretation.\n",
            "  warnings.warn(\n"
          ]
        },
        {
          "output_type": "display_data",
          "data": {
            "text/plain": [
              "<Figure size 576x720 with 1 Axes>"
            ],
            "image/png": "[encoded data removed]"
          },
          "metadata": {
            "needs_background": "light"
          }
        }
      ]
    },
    {
      "cell_type": "code",
      "source": [
        "df[\"MiscVal\"].unique()"
      ],
      "metadata": {
        "colab": {
          "base_uri": "https://localhost:8080/"
        },
        "id": "6CTw3_KhqTFC",
        "outputId": "22c0f7b8-7d53-4ffc-9208-f4fd8fd13588"
      },
      "execution_count": null,
      "outputs": [
        {
          "output_type": "execute_result",
          "data": {
            "text/plain": [
              "array([    0,   700,   350,   500,   400,   480,   450, 15500,  1200,\n",
              "         800,  2000,   600,  3500,  1300,    54,   620,   560,  1400,\n",
              "        8300,  1150,  2500])"
            ]
          },
          "metadata": {},
          "execution_count": 16
        }
      ]
    },
    {
      "cell_type": "markdown",
      "source": [
        "Drop columns with unwanted correlation"
      ],
      "metadata": {
        "id": "9PCh8ZzNG4ZL"
      }
    },
    {
      "cell_type": "code",
      "source": [
        "df=df.drop([\"Id\",\"Unnamed: 0\"],axis=1)"
      ],
      "metadata": {
        "id": "d34gbO51GlwM"
      },
      "execution_count": null,
      "outputs": []
    },
    {
      "cell_type": "markdown",
      "source": [
        "Create Baseline model "
      ],
      "metadata": {
        "id": "JxHbUXCnG_Gk"
      }
    },
    {
      "cell_type": "code",
      "source": [
        "X=df.drop([\"SalePrice\"],axis=1)\n",
        "Y=df[\"SalePrice\"]\n",
        "from sklearn.model_selection import train_test_split\n",
        "X_train,X_test,y_train,y_test = train_test_split(X,Y,test_size=0.3,random_state=1)\n"
      ],
      "metadata": {
        "id": "p5Cl3R9e5auM"
      },
      "execution_count": null,
      "outputs": []
    },
    {
      "cell_type": "code",
      "source": [
        "y_mean = y_train.mean()\n",
        "y_mean"
      ],
      "metadata": {
        "id": "sTSQOB3a55Is",
        "colab": {
          "base_uri": "https://localhost:8080/"
        },
        "outputId": "5095eaf1-2f98-45e9-f759-5a84fdf5ba64"
      },
      "execution_count": null,
      "outputs": [
        {
          "output_type": "execute_result",
          "data": {
            "text/plain": [
              "181438.53424657535"
            ]
          },
          "metadata": {},
          "execution_count": 19
        }
      ]
    },
    {
      "cell_type": "code",
      "source": [
        "y_pred_baseline = [y_mean] * len(y_train)"
      ],
      "metadata": {
        "id": "9GPUHkN26frn"
      },
      "execution_count": null,
      "outputs": []
    },
    {
      "cell_type": "markdown",
      "source": [
        "Select features for xgboost and calculate the baseline mae"
      ],
      "metadata": {
        "id": "gjDFCS5THG7s"
      }
    },
    {
      "cell_type": "code",
      "source": [
        "X1=df.select_dtypes(\"int64\").drop([\"SalePrice\"],axis=1)\n",
        "Y1=df[\"SalePrice\"]\n",
        "\n"
      ],
      "metadata": {
        "id": "gKJkWzwf9v9b"
      },
      "execution_count": null,
      "outputs": []
    },
    {
      "cell_type": "code",
      "source": [
        "from sklearn.model_selection import train_test_split\n",
        "X_train,X_test,y_train,y_test = train_test_split(X1,Y1,test_size=0.3,random_state=1)"
      ],
      "metadata": {
        "id": "b6BNqBMU-HGs"
      },
      "execution_count": null,
      "outputs": []
    },
    {
      "cell_type": "code",
      "source": [
        "from sklearn.metrics import mean_absolute_error\n",
        "baseline_mae = mean_absolute_error(y_train,y_pred_baseline)\n",
        "print(\"Mean apt price:\", round(y_mean,2))\n",
        "print(\"Baseline MAE:\", round(baseline_mae,2))"
      ],
      "metadata": {
        "id": "Yxjnf_xh6hRD",
        "colab": {
          "base_uri": "https://localhost:8080/"
        },
        "outputId": "95788205-07b4-4fd9-de3b-cb7d0493d756"
      },
      "execution_count": null,
      "outputs": [
        {
          "output_type": "stream",
          "name": "stdout",
          "text": [
            "Mean apt price: 181438.53\n",
            "Baseline MAE: 56108.37\n"
          ]
        }
      ]
    },
    {
      "cell_type": "code",
      "source": [
        "from xgboost import XGBRegressor\n",
        "model = XGBRegressor(objective ='reg:squarederror',n_estimators = 4000, learning_rate = 0.005, max_depth = 5, colsample_bytree = 0.3, gamma = 0)\n",
        "\n",
        "model.fit(X_train, y_train)\n",
        "\n",
        "y_pred_xgb=model.predict(X_test)"
      ],
      "metadata": {
        "id": "YFSFIANh6ok5"
      },
      "execution_count": null,
      "outputs": []
    },
    {
      "cell_type": "markdown",
      "source": [
        "mae and rmse for xgboost is well below baseline"
      ],
      "metadata": {
        "id": "7rQqKJFZH655"
      }
    },
    {
      "cell_type": "code",
      "source": [
        "mae_xgb=mean_absolute_error(y_test,y_pred_xgb)\n",
        "mae_xgb"
      ],
      "metadata": {
        "id": "Ae8mIZEn-ehP",
        "colab": {
          "base_uri": "https://localhost:8080/"
        },
        "outputId": "5e9a5c49-7f7c-45cf-ed14-3a8ed4f4fa8f"
      },
      "execution_count": null,
      "outputs": [
        {
          "output_type": "execute_result",
          "data": {
            "text/plain": [
              "15617.7814194492"
            ]
          },
          "metadata": {},
          "execution_count": 25
        }
      ]
    },
    {
      "cell_type": "code",
      "source": [
        "from sklearn.metrics import mean_squared_error\n",
        "\n",
        "rmse = np.sqrt(mean_squared_error(y_test, y_pred_xgb))\n",
        "rmse"
      ],
      "metadata": {
        "id": "9Ic8G8VXCzMz",
        "colab": {
          "base_uri": "https://localhost:8080/"
        },
        "outputId": "fda2af8f-3286-40f7-b9d4-d3f0f6c6a4ea"
      },
      "execution_count": null,
      "outputs": [
        {
          "output_type": "execute_result",
          "data": {
            "text/plain": [
              "23853.46972470121"
            ]
          },
          "metadata": {},
          "execution_count": 26
        }
      ]
    },
    {
      "cell_type": "markdown",
      "source": [
        "Fit and residuals are reasonable for xgb:"
      ],
      "metadata": {
        "id": "wWmpAxSoILF0"
      }
    },
    {
      "cell_type": "code",
      "source": [
        "plt.scatter(y_pred_xgb, y_test, c = \"blue\", marker = \"s\", label = \"Training House Prices\")\n",
        "plt.title(\"XGB regression\")\n",
        "plt.xlabel(\"Predicted House Prices\")\n",
        "plt.ylabel(\"Actual House Prices\")\n",
        "plt.plot([0, 600000], [0, 600000], c = \"red\")\n",
        "plt.show()"
      ],
      "metadata": {
        "id": "sTVOdMcHK-5l",
        "colab": {
          "base_uri": "https://localhost:8080/",
          "height": 295
        },
        "outputId": "374ca665-7e5c-40b4-86b8-c607fdde124f"
      },
      "execution_count": null,
      "outputs": [
        {
          "output_type": "display_data",
          "data": {
            "text/plain": [
              "<Figure size 432x288 with 1 Axes>"
            ],
            "image/png": "[encoded data removed]"
          },
          "metadata": {
            "needs_background": "light"
          }
        }
      ]
    },
    {
      "cell_type": "code",
      "source": [
        "plt.scatter(y_test, y_test - y_pred_xgb, c = \"blue\", marker = \"s\", label = \"Training data\")\n",
        "plt.title(\"Residuals after XGBregression\")\n",
        "plt.xlabel(\"Predicted values\")\n",
        "plt.ylabel(\"Residuals\")\n",
        "plt.hlines(y = 0, xmin = 0, xmax = 700000, color = \"red\")\n",
        "plt.show()"
      ],
      "metadata": {
        "id": "JVQ_ZiubeO9B",
        "colab": {
          "base_uri": "https://localhost:8080/",
          "height": 295
        },
        "outputId": "290a4554-0976-422d-fb32-65f428bb459f"
      },
      "execution_count": null,
      "outputs": [
        {
          "output_type": "display_data",
          "data": {
            "text/plain": [
              "<Figure size 432x288 with 1 Axes>"
            ],
            "image/png": "[encoded data removed]"
          },
          "metadata": {
            "needs_background": "light"
          }
        }
      ]
    },
    {
      "cell_type": "markdown",
      "source": [
        "Feature weights assigned by the model:"
      ],
      "metadata": {
        "id": "vGiNtGZlIZgk"
      }
    },
    {
      "cell_type": "code",
      "source": [
        "hashmap=model.get_booster().get_score(importance_type='gain')\n",
        "sorted_hm=sorted(hashmap.items(),key=lambda x:x[1],reverse =True)\n",
        "plt.figure(figsize=(15,20))\n",
        "x=[e[0]for e in sorted_hm]\n",
        "y=[e[1]for e in sorted_hm]\n",
        "sns.barplot(y,x)"
      ],
      "metadata": {
        "colab": {
          "base_uri": "https://localhost:8080/",
          "height": 1000
        },
        "id": "Mrja0seKaioq",
        "outputId": "1ec39a40-07bb-4916-fe28-c8611de6a60e"
      },
      "execution_count": null,
      "outputs": [
        {
          "output_type": "stream",
          "name": "stderr",
          "text": [
            "/usr/local/lib/python3.8/dist-packages/seaborn/_decorators.py:36: FutureWarning: Pass the following variables as keyword args: x, y. From version 0.12, the only valid positional argument will be `data`, and passing other arguments without an explicit keyword will result in an error or misinterpretation.\n",
            "  warnings.warn(\n"
          ]
        },
        {
          "output_type": "execute_result",
          "data": {
            "text/plain": [
              "<matplotlib.axes._subplots.AxesSubplot at 0x7fdef11a57c0>"
            ]
          },
          "metadata": {},
          "execution_count": 29
        },
        {
          "output_type": "display_data",
          "data": {
            "text/plain": [
              "<Figure size 1080x1440 with 1 Axes>"
            ],
            "image/png": "[encoded data removed]"
          },
          "metadata": {
            "needs_background": "light"
          }
        }
      ]
    },
    {
      "cell_type": "code",
      "source": [
        "X1.columns"
      ],
      "metadata": {
        "colab": {
          "base_uri": "https://localhost:8080/"
        },
        "id": "gvrhsKMnE5Vk",
        "outputId": "4d4e5ff5-e850-4777-80e0-bf7759ebe1a7"
      },
      "execution_count": null,
      "outputs": [
        {
          "output_type": "execute_result",
          "data": {
            "text/plain": [
              "Index(['MSSubClass', 'LotArea', 'OverallQual', 'OverallCond', 'YearBuilt',\n",
              "       'YearRemodAdd', 'ExterQual', 'ExterCond', 'BsmtQual', 'BsmtCond',\n",
              "       'BsmtFinSF1', 'BsmtFinSF2', 'BsmtUnfSF', 'TotalBsmtSF', 'HeatingQC',\n",
              "       '1stFlrSF', '2ndFlrSF', 'LowQualFinSF', 'GrLivArea', 'BsmtFullBath',\n",
              "       'BsmtHalfBath', 'FullBath', 'HalfBath', 'BedroomAbvGr', 'KitchenAbvGr',\n",
              "       'KitchenQual', 'TotRmsAbvGrd', 'Fireplaces', 'FireplaceQu',\n",
              "       'GarageCars', 'GarageArea', 'GarageQual', 'GarageCond', 'WoodDeckSF',\n",
              "       'OpenPorchSF', 'EnclosedPorch', '3SsnPorch', 'ScreenPorch', 'PoolArea',\n",
              "       'MiscVal', 'MoSold', 'YrSold'],\n",
              "      dtype='object')"
            ]
          },
          "metadata": {},
          "execution_count": 30
        }
      ]
    },
    {
      "cell_type": "code",
      "source": [
        "\n",
        "uih=pd.DataFrame(X1.iloc[0]).T\n",
        "uih\n",
        "\n"
      ],
      "metadata": {
        "colab": {
          "base_uri": "https://localhost:8080/",
          "height": 174
        },
        "id": "XmXFt0vMiRa_",
        "outputId": "1ffc4a19-0552-4a0a-809b-a70993639b73"
      },
      "execution_count": null,
      "outputs": [
        {
          "output_type": "execute_result",
          "data": {
            "text/plain": [
              "   MSSubClass  LotArea  OverallQual  OverallCond  YearBuilt  YearRemodAdd  \\\n",
              "0          60     8450            7            5       2003          2003   \n",
              "\n",
              "   ExterQual  ExterCond  BsmtQual  BsmtCond  ...  GarageCond  WoodDeckSF  \\\n",
              "0          4          3         4         3  ...           3           0   \n",
              "\n",
              "   OpenPorchSF  EnclosedPorch  3SsnPorch  ScreenPorch  PoolArea  MiscVal  \\\n",
              "0           61              0          0            0         0        0   \n",
              "\n",
              "   MoSold  YrSold  \n",
              "0       2    2008  \n",
              "\n",
              "[1 rows x 42 columns]"
            ],
            "text/html": [
              "\n",
              "  <div id=\"df-7907003c-324c-47f7-bc7f-88579a536414\">\n",
              "    <div class=\"colab-df-container\">\n",
              "      <div>\n",
              "<style scoped>\n",
              "    .dataframe tbody tr th:only-of-type {\n",
              "        vertical-align: middle;\n",
              "    }\n",
              "\n",
              "    .dataframe tbody tr th {\n",
              "        vertical-align: top;\n",
              "    }\n",
              "\n",
              "    .dataframe thead th {\n",
              "        text-align: right;\n",
              "    }\n",
              "</style>\n",
              "<table border=\"1\" class=\"dataframe\">\n",
              "  <thead>\n",
              "    <tr style=\"text-align: right;\">\n",
              "      <th></th>\n",
              "      <th>MSSubClass</th>\n",
              "      <th>LotArea</th>\n",
              "      <th>OverallQual</th>\n",
              "      <th>OverallCond</th>\n",
              "      <th>YearBuilt</th>\n",
              "      <th>YearRemodAdd</th>\n",
              "      <th>ExterQual</th>\n",
              "      <th>ExterCond</th>\n",
              "      <th>BsmtQual</th>\n",
              "      <th>BsmtCond</th>\n",
              "      <th>...</th>\n",
              "      <th>GarageCond</th>\n",
              "      <th>WoodDeckSF</th>\n",
              "      <th>OpenPorchSF</th>\n",
              "      <th>EnclosedPorch</th>\n",
              "      <th>3SsnPorch</th>\n",
              "      <th>ScreenPorch</th>\n",
              "      <th>PoolArea</th>\n",
              "      <th>MiscVal</th>\n",
              "      <th>MoSold</th>\n",
              "      <th>YrSold</th>\n",
              "    </tr>\n",
              "  </thead>\n",
              "  <tbody>\n",
              "    <tr>\n",
              "      <th>0</th>\n",
              "      <td>60</td>\n",
              "      <td>8450</td>\n",
              "      <td>7</td>\n",
              "      <td>5</td>\n",
              "      <td>2003</td>\n",
              "      <td>2003</td>\n",
              "      <td>4</td>\n",
              "      <td>3</td>\n",
              "      <td>4</td>\n",
              "      <td>3</td>\n",
              "      <td>...</td>\n",
              "      <td>3</td>\n",
              "      <td>0</td>\n",
              "      <td>61</td>\n",
              "      <td>0</td>\n",
              "      <td>0</td>\n",
              "      <td>0</td>\n",
              "      <td>0</td>\n",
              "      <td>0</td>\n",
              "      <td>2</td>\n",
              "      <td>2008</td>\n",
              "    </tr>\n",
              "  </tbody>\n",
              "</table>\n",
              "<p>1 rows × 42 columns</p>\n",
              "</div>\n",
              "      <button class=\"colab-df-convert\" onclick=\"convertToInteractive('df-7907003c-324c-47f7-bc7f-88579a536414')\"\n",
              "              title=\"Convert this dataframe to an interactive table.\"\n",
              "              style=\"display:none;\">\n",
              "        \n",
              "  <svg xmlns=\"http://www.w3.org/2000/svg\" height=\"24px\"viewBox=\"0 0 24 24\"\n",
              "       width=\"24px\">\n",
              "    <path d=\"M0 0h24v24H0V0z\" fill=\"none\"/>\n",
              "    <path d=\"M18.56 5.44l.94 2.06.94-2.06 2.06-.94-2.06-.94-.94-2.06-.94 2.06-2.06.94zm-11 1L8.5 8.5l.94-2.06 2.06-.94-2.06-.94L8.5 2.5l-.94 2.06-2.06.94zm10 10l.94 2.06.94-2.06 2.06-.94-2.06-.94-.94-2.06-.94 2.06-2.06.94z\"/><path d=\"M17.41 7.96l-1.37-1.37c-.4-.4-.92-.59-1.43-.59-.52 0-1.04.2-1.43.59L10.3 9.45l-7.72 7.72c-.78.78-.78 2.05 0 2.83L4 21.41c.39.39.9.59 1.41.59.51 0 1.02-.2 1.41-.59l7.78-7.78 2.81-2.81c.8-.78.8-2.07 0-2.86zM5.41 20L4 18.59l7.72-7.72 1.47 1.35L5.41 20z\"/>\n",
              "  </svg>\n",
              "      </button>\n",
              "      \n",
              "  <style>\n",
              "    .colab-df-container {\n",
              "      display:flex;\n",
              "      flex-wrap:wrap;\n",
              "      gap: 12px;\n",
              "    }\n",
              "\n",
              "    .colab-df-convert {\n",
              "      background-color: #E8F0FE;\n",
              "      border: none;\n",
              "      border-radius: 50%;\n",
              "      cursor: pointer;\n",
              "      display: none;\n",
              "      fill: #1967D2;\n",
              "      height: 32px;\n",
              "      padding: 0 0 0 0;\n",
              "      width: 32px;\n",
              "    }\n",
              "\n",
              "    .colab-df-convert:hover {\n",
              "      background-color: #E2EBFA;\n",
              "      box-shadow: 0px 1px 2px rgba(60, 64, 67, 0.3), 0px 1px 3px 1px rgba(60, 64, 67, 0.15);\n",
              "      fill: #174EA6;\n",
              "    }\n",
              "\n",
              "    [theme=dark] .colab-df-convert {\n",
              "      background-color: #3B4455;\n",
              "      fill: #D2E3FC;\n",
              "    }\n",
              "\n",
              "    [theme=dark] .colab-df-convert:hover {\n",
              "      background-color: #434B5C;\n",
              "      box-shadow: 0px 1px 3px 1px rgba(0, 0, 0, 0.15);\n",
              "      filter: drop-shadow(0px 1px 2px rgba(0, 0, 0, 0.3));\n",
              "      fill: #FFFFFF;\n",
              "    }\n",
              "  </style>\n",
              "\n",
              "      <script>\n",
              "        const buttonEl =\n",
              "          document.querySelector('#df-7907003c-324c-47f7-bc7f-88579a536414 button.colab-df-convert');\n",
              "        buttonEl.style.display =\n",
              "          google.colab.kernel.accessAllowed ? 'block' : 'none';\n",
              "\n",
              "        async function convertToInteractive(key) {\n",
              "          const element = document.querySelector('#df-7907003c-324c-47f7-bc7f-88579a536414');\n",
              "          const dataTable =\n",
              "            await google.colab.kernel.invokeFunction('convertToInteractive',\n",
              "                                                     [key], {});\n",
              "          if (!dataTable) return;\n",
              "\n",
              "          const docLinkHtml = 'Like what you see? Visit the ' +\n",
              "            '<a target=\"_blank\" href=https://colab.research.google.com/notebooks/data_table.ipynb>data table notebook</a>'\n",
              "            + ' to learn more about interactive tables.';\n",
              "          element.innerHTML = '';\n",
              "          dataTable['output_type'] = 'display_data';\n",
              "          await google.colab.output.renderOutput(dataTable, element);\n",
              "          const docLink = document.createElement('div');\n",
              "          docLink.innerHTML = docLinkHtml;\n",
              "          element.appendChild(docLink);\n",
              "        }\n",
              "      </script>\n",
              "    </div>\n",
              "  </div>\n",
              "  "
            ]
          },
          "metadata": {},
          "execution_count": 31
        }
      ]
    },
    {
      "cell_type": "markdown",
      "source": [
        "Below code is for testing parameters and outputs in webapp. "
      ],
      "metadata": {
        "id": "-3BFQbbPOXI8"
      }
    },
    {
      "cell_type": "code",
      "source": [
        "column_s=[col for col in ['MSSubClass', 'LotArea', 'OverallQual', 'OverallCond', 'YearBuilt',\n",
        "       'YearRemodAdd', 'ExterQual', 'ExterCond', 'BsmtQual', 'BsmtCond',\n",
        "       'BsmtFinSF1', 'BsmtFinSF2', 'BsmtUnfSF', 'TotalBsmtSF', 'HeatingQC',\n",
        "       '1stFlrSF', '2ndFlrSF', 'LowQualFinSF', 'GrLivArea', 'BsmtFullBath',\n",
        "       'BsmtHalfBath', 'FullBath', 'HalfBath', 'BedroomAbvGr', 'KitchenAbvGr',\n",
        "       'KitchenQual', 'TotRmsAbvGrd', 'Fireplaces', 'FireplaceQu',\n",
        "       'GarageCars', 'GarageArea', 'GarageQual', 'GarageCond', 'WoodDeckSF',\n",
        "       'OpenPorchSF', 'EnclosedPorch', '3SsnPorch', 'ScreenPorch', 'PoolArea',\n",
        "       'MiscVal', 'MoSold', 'YrSold']]\n",
        "column_s\n",
        "s=pd.DataFrame(input,index=column_s).T\n",
        "s\n",
        "model.predict(s)"
      ],
      "metadata": {
        "colab": {
          "base_uri": "https://localhost:8080/"
        },
        "id": "BJseL_ebrU_Q",
        "outputId": "9196305c-d589-4144-af75-6511caa1974f"
      },
      "execution_count": null,
      "outputs": [
        {
          "output_type": "execute_result",
          "data": {
            "text/plain": [
              "array([30905.555], dtype=float32)"
            ]
          },
          "metadata": {},
          "execution_count": 32
        }
      ]
    },
    {
      "cell_type": "markdown",
      "source": [
        "Pickling the model:"
      ],
      "metadata": {
        "id": "rZDGU0bXOjv0"
      }
    },
    {
      "cell_type": "code",
      "source": [
        "import pickle\n",
        "with open('model.pkl', 'wb') as handle:\n",
        "    pickle.dump(model, handle, pickle.HIGHEST_PROTOCOL)"
      ],
      "metadata": {
        "id": "WNyOwUXr-kCZ"
      },
      "execution_count": null,
      "outputs": []
    },
    {
      "cell_type": "code",
      "source": [
        "with open('model.pkl', 'rb') as handle:\n",
        "    model = pickle.load(handle)"
      ],
      "metadata": {
        "id": "BrnoKFt5Ohsu"
      },
      "execution_count": null,
      "outputs": []
    },
    {
      "cell_type": "markdown",
      "source": [
        "Lasso Regression gives a reasonable result:"
      ],
      "metadata": {
        "id": "QY4bJYYxJVzX"
      }
    },
    {
      "cell_type": "code",
      "source": [
        "from sklearn.linear_model import Lasso\n",
        "model_lasso=Lasso(alpha = 0.001, random_state=1)\n",
        "\n"
      ],
      "metadata": {
        "id": "Np7tEDoGD0z8"
      },
      "execution_count": null,
      "outputs": []
    },
    {
      "cell_type": "code",
      "source": [
        "model_lasso.fit(X_train,y_train)\n",
        "y_pred_lasso=model_lasso.predict(X_test)"
      ],
      "metadata": {
        "id": "TUUC2uWGiOct",
        "colab": {
          "base_uri": "https://localhost:8080/"
        },
        "outputId": "6dd21157-e68d-45d0-95b4-6b69a2e423b2"
      },
      "execution_count": null,
      "outputs": [
        {
          "output_type": "stream",
          "name": "stderr",
          "text": [
            "/usr/local/lib/python3.8/dist-packages/sklearn/linear_model/_coordinate_descent.py:647: ConvergenceWarning: Objective did not converge. You might want to increase the number of iterations, check the scale of the features or consider increasing regularisation. Duality gap: 6.478e+10, tolerance: 6.080e+08\n",
            "  model = cd_fast.enet_coordinate_descent(\n"
          ]
        }
      ]
    },
    {
      "cell_type": "code",
      "source": [
        "mae_lasso=mean_absolute_error(y_test,y_pred_lasso)\n",
        "mae_lasso"
      ],
      "metadata": {
        "colab": {
          "base_uri": "https://localhost:8080/"
        },
        "id": "7lrzYS_lM72c",
        "outputId": "62613648-944f-4b3e-e110-b9cbc954e3e1"
      },
      "execution_count": null,
      "outputs": [
        {
          "output_type": "execute_result",
          "data": {
            "text/plain": [
              "21087.319540552497"
            ]
          },
          "metadata": {},
          "execution_count": 180
        }
      ]
    },
    {
      "cell_type": "code",
      "source": [
        "rmse_l = np.sqrt(mean_squared_error(y_test, y_pred_lasso))\n",
        "rmse_l"
      ],
      "metadata": {
        "colab": {
          "base_uri": "https://localhost:8080/"
        },
        "id": "5Wv17aMFNIOj",
        "outputId": "3afc64db-cdfc-44b4-84c8-23b83ca115e8"
      },
      "execution_count": null,
      "outputs": [
        {
          "output_type": "execute_result",
          "data": {
            "text/plain": [
              "33955.49056677872"
            ]
          },
          "metadata": {},
          "execution_count": 181
        }
      ]
    },
    {
      "cell_type": "code",
      "source": [
        "plt.scatter(y_pred_lasso, y_test, c = \"blue\", marker = \"s\", label = \"Training House Prices\")\n",
        "plt.title(\"Lasso regression\")\n",
        "plt.xlabel(\"Predicted House Prices\")\n",
        "plt.ylabel(\"Real House Prices\")\n",
        "plt.plot([0, 700000], [0, 700000], c = \"red\")\n",
        "plt.show()"
      ],
      "metadata": {
        "colab": {
          "base_uri": "https://localhost:8080/",
          "height": 295
        },
        "id": "wwK_y5jwNjK-",
        "outputId": "cca7122e-71a6-46ab-d70f-9980aa7ffea0"
      },
      "execution_count": null,
      "outputs": [
        {
          "output_type": "display_data",
          "data": {
            "text/plain": [
              "<Figure size 432x288 with 1 Axes>"
            ],
            "image/png": "[encoded data removed]"
          },
          "metadata": {
            "needs_background": "light"
          }
        }
      ]
    },
    {
      "cell_type": "code",
      "source": [
        "plt.scatter(y_test, y_test - y_pred_lasso, c = \"blue\", marker = \"s\", label = \"Training data\")\n",
        "plt.title(\"Residuals after Lasso regression\")\n",
        "plt.xlabel(\"Predicted values\")\n",
        "plt.ylabel(\"Residuals\")\n",
        "plt.hlines(y = 0, xmin = 0, xmax = 700000, color = \"red\")\n",
        "plt.show()"
      ],
      "metadata": {
        "colab": {
          "base_uri": "https://localhost:8080/",
          "height": 295
        },
        "id": "G-MxUdrWNxf6",
        "outputId": "c767e966-8122-4d8b-8597-f6851878616e"
      },
      "execution_count": null,
      "outputs": [
        {
          "output_type": "display_data",
          "data": {
            "text/plain": [
              "<Figure size 432x288 with 1 Axes>"
            ],
            "image/png": "[encoded data removed]"
          },
          "metadata": {
            "needs_background": "light"
          }
        }
      ]
    }
  ]
}