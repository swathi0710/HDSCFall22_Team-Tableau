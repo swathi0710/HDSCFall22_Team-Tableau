{
  "nbformat": 4,
  "nbformat_minor": 0,
  "metadata": {
    "colab": {
      "provenance": []
    },
    "kernelspec": {
      "name": "python3",
      "display_name": "Python 3"
    },
    "language_info": {
      "name": "python"
    }
  },
  "cells": [
    {
      "cell_type": "code",
      "execution_count": 11,
      "metadata": {
        "id": "GU77tPqUc55C"
      },
      "outputs": [],
      "source": [
        "import pandas as pd\n",
        "import numpy as np\n",
        "import matplotlib.pyplot as plt\n",
        "import seaborn as sns"
      ]
    },
    {
      "cell_type": "markdown",
      "source": [
        "Import Cleaned Data\n"
      ],
      "metadata": {
        "id": "79iUJl-1dLg5"
      }
    },
    {
      "cell_type": "code",
      "source": [
        "df=pd.read_csv(\"/content/PremierProject.csv\")"
      ],
      "metadata": {
        "id": "wMzTVmSYdVKi"
      },
      "execution_count": 15,
      "outputs": []
    },
    {
      "cell_type": "code",
      "source": [
        "df.info()"
      ],
      "metadata": {
        "colab": {
          "base_uri": "https://localhost:8080/"
        },
        "id": "bPty2LN-donK",
        "outputId": "785efbc5-4082-401d-ce2d-5a619d684c7a"
      },
      "execution_count": 16,
      "outputs": [
        {
          "output_type": "stream",
          "name": "stdout",
          "text": [
            "<class 'pandas.core.frame.DataFrame'>\n",
            "RangeIndex: 1460 entries, 0 to 1459\n",
            "Data columns (total 71 columns):\n",
            " #   Column         Non-Null Count  Dtype  \n",
            "---  ------         --------------  -----  \n",
            " 0   Unnamed: 0     1460 non-null   int64  \n",
            " 1   MSSubClass     1460 non-null   int64  \n",
            " 2   MSZoning       1460 non-null   object \n",
            " 3   LotArea        1460 non-null   int64  \n",
            " 4   LotShape       1460 non-null   object \n",
            " 5   LandContour    1460 non-null   object \n",
            " 6   LotConfig      1460 non-null   object \n",
            " 7   LandSlope      1460 non-null   object \n",
            " 8   Condition1     1460 non-null   object \n",
            " 9   Condition2     1460 non-null   object \n",
            " 10  BldgType       1460 non-null   object \n",
            " 11  HouseStyle     1460 non-null   object \n",
            " 12  OverallQual    1460 non-null   int64  \n",
            " 13  OverallCond    1460 non-null   int64  \n",
            " 14  YearBuilt      1460 non-null   int64  \n",
            " 15  YearRemodAdd   1460 non-null   int64  \n",
            " 16  RoofStyle      1460 non-null   object \n",
            " 17  RoofMatl       1460 non-null   object \n",
            " 18  Exterior1st    1460 non-null   object \n",
            " 19  MasVnrType     1452 non-null   object \n",
            " 20  MasVnrArea     1460 non-null   object \n",
            " 21  ExterQual      1460 non-null   int64  \n",
            " 22  ExterCond      1460 non-null   int64  \n",
            " 23  Foundation     1460 non-null   object \n",
            " 24  BsmtQual       1460 non-null   int64  \n",
            " 25  BsmtCond       1460 non-null   int64  \n",
            " 26  BsmtExposure   1422 non-null   object \n",
            " 27  BsmtFinType1   1423 non-null   object \n",
            " 28  BsmtFinSF1     1460 non-null   int64  \n",
            " 29  BsmtFinType2   1422 non-null   object \n",
            " 30  BsmtFinSF2     1460 non-null   int64  \n",
            " 31  BsmtUnfSF      1460 non-null   int64  \n",
            " 32  TotalBsmtSF    1460 non-null   int64  \n",
            " 33  Heating        1460 non-null   object \n",
            " 34  HeatingQC      1460 non-null   int64  \n",
            " 35  Electrical     1459 non-null   object \n",
            " 36  1stFlrSF       1460 non-null   int64  \n",
            " 37  2ndFlrSF       1460 non-null   int64  \n",
            " 38  LowQualFinSF   1460 non-null   int64  \n",
            " 39  GrLivArea      1460 non-null   int64  \n",
            " 40  BsmtFullBath   1460 non-null   int64  \n",
            " 41  BsmtHalfBath   1460 non-null   int64  \n",
            " 42  FullBath       1460 non-null   int64  \n",
            " 43  HalfBath       1460 non-null   int64  \n",
            " 44  BedroomAbvGr   1460 non-null   int64  \n",
            " 45  KitchenAbvGr   1460 non-null   int64  \n",
            " 46  KitchenQual    1460 non-null   int64  \n",
            " 47  TotRmsAbvGrd   1460 non-null   int64  \n",
            " 48  Functional     1460 non-null   object \n",
            " 49  Fireplaces     1460 non-null   int64  \n",
            " 50  FireplaceQu    1460 non-null   int64  \n",
            " 51  GarageType     1379 non-null   object \n",
            " 52  GarageYrBlt    1460 non-null   float64\n",
            " 53  GarageFinish   1379 non-null   object \n",
            " 54  GarageCars     1460 non-null   int64  \n",
            " 55  GarageArea     1460 non-null   int64  \n",
            " 56  GarageQual     1460 non-null   int64  \n",
            " 57  GarageCond     1460 non-null   int64  \n",
            " 58  PavedDrive     1460 non-null   object \n",
            " 59  WoodDeckSF     1460 non-null   int64  \n",
            " 60  OpenPorchSF    1460 non-null   int64  \n",
            " 61  EnclosedPorch  1460 non-null   int64  \n",
            " 62  3SsnPorch      1460 non-null   int64  \n",
            " 63  ScreenPorch    1460 non-null   int64  \n",
            " 64  PoolArea       1460 non-null   int64  \n",
            " 65  MiscVal        1460 non-null   int64  \n",
            " 66  MoSold         1460 non-null   int64  \n",
            " 67  YrSold         1460 non-null   int64  \n",
            " 68  SaleType       1460 non-null   object \n",
            " 69  SaleCondition  1460 non-null   object \n",
            " 70  SalePrice      1460 non-null   int64  \n",
            "dtypes: float64(1), int64(44), object(26)\n",
            "memory usage: 810.0+ KB\n"
          ]
        }
      ]
    },
    {
      "cell_type": "markdown",
      "source": [
        "Create Baseline model "
      ],
      "metadata": {
        "id": "3UWKUZz4jbbf"
      }
    },
    {
      "cell_type": "code",
      "source": [
        "X=df.drop([\"SalePrice\"],axis=1)\n",
        "Y=df[\"SalePrice\"]\n",
        "from sklearn.model_selection import train_test_split\n",
        "X_train,X_test,y_train,y_test = train_test_split(X,Y,test_size=0.3,random_state=1)"
      ],
      "metadata": {
        "id": "3rYoDYk-fbdd"
      },
      "execution_count": 17,
      "outputs": []
    },
    {
      "cell_type": "code",
      "source": [
        "y_mean = y_train.mean()\n",
        "y_mean"
      ],
      "metadata": {
        "colab": {
          "base_uri": "https://localhost:8080/"
        },
        "id": "1KulAviYjlzt",
        "outputId": "6ed9fdba-2d6f-43aa-a574-d610d92ec1e0"
      },
      "execution_count": 18,
      "outputs": [
        {
          "output_type": "execute_result",
          "data": {
            "text/plain": [
              "181438.53424657535"
            ]
          },
          "metadata": {},
          "execution_count": 18
        }
      ]
    },
    {
      "cell_type": "code",
      "source": [
        "y_pred_baseline = [y_mean] * len(y_train)"
      ],
      "metadata": {
        "id": "_vMdj0YPj14W"
      },
      "execution_count": 19,
      "outputs": []
    },
    {
      "cell_type": "markdown",
      "source": [
        "Calculate Baseline MAE"
      ],
      "metadata": {
        "id": "lMQw95Hkj9UC"
      }
    },
    {
      "cell_type": "code",
      "source": [
        "from sklearn.metrics import mean_absolute_error\n",
        "baseline_mae = mean_absolute_error(y_train,y_pred_baseline)\n",
        "print(\"Mean apt price:\", round(y_mean,2))\n",
        "print(\"Baseline MAE:\", round(baseline_mae,2))"
      ],
      "metadata": {
        "colab": {
          "base_uri": "https://localhost:8080/"
        },
        "id": "ARIkBZVbj3iP",
        "outputId": "441bdadc-d68a-416a-95cd-ad1e12e5d9ff"
      },
      "execution_count": 20,
      "outputs": [
        {
          "output_type": "stream",
          "name": "stdout",
          "text": [
            "Mean apt price: 181438.53\n",
            "Baseline MAE: 56108.37\n"
          ]
        }
      ]
    },
    {
      "cell_type": "markdown",
      "source": [
        "Select features for models"
      ],
      "metadata": {
        "id": "x86fxxZjkME5"
      }
    },
    {
      "cell_type": "code",
      "source": [
        "X1=df.select_dtypes(\"int64\").drop([\"SalePrice\"],axis=1)\n",
        "Y1=df[\"SalePrice\"]"
      ],
      "metadata": {
        "id": "G0nMJADskD9p"
      },
      "execution_count": 21,
      "outputs": []
    },
    {
      "cell_type": "code",
      "source": [
        "from xgboost import XGBRegressor\n",
        "from sklearn.linear_model import LinearRegression, RidgeCV, Lasso\n",
        "from sklearn.ensemble import GradientBoostingRegressor\n",
        "\n",
        "\n",
        "lr=LinearRegression()\n",
        "gbr = GradientBoostingRegressor()\n",
        "rid=RidgeCV(alpha=10)\n",
        "xgb= XGBRegressor(objective ='reg:squarederror',n_estimators = 4000, learning_rate = 0.005, max_depth = 5, colsample_bytree = 0.3, gamma = 0)\n",
        "las= Lasso(alpha = 0.001, random_state=1)\n",
        "\n",
        "\n",
        "pipeline=[xgb,las,lr,gbr,rid]\n",
        "\n",
        "\n",
        "\n"
      ],
      "metadata": {
        "id": "Rwlb9NzSkSB1"
      },
      "execution_count": null,
      "outputs": []
    }
  ]
}