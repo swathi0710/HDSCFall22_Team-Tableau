{
  "nbformat": 4,
  "nbformat_minor": 0,
  "metadata": {
    "colab": {
      "provenance": []
    },
    "kernelspec": {
      "name": "python3",
      "display_name": "Python 3"
    },
    "language_info": {
      "name": "python"
    }
  },
  "cells": [
    {
      "cell_type": "code",
      "execution_count": null,
      "metadata": {
        "id": "m0Zwy-yI0GKX"
      },
      "outputs": [],
      "source": [
        "import pandas as pd\n",
        "import numpy as np\n",
        "import matplotlib.pyplot as plt\n",
        "import seaborn as sns"
      ]
    },
    {
      "cell_type": "code",
      "source": [
        "\n",
        "# Creating a data wrangle function.\n",
        "def wrangle(filepath):\n",
        "    # importing the dataset.\n",
        "    df = pd.read_csv(filepath)\n",
        "    \n",
        "    #Can see all the columns with this code.\n",
        "    #pd.pandas.set_option('display.max_rows', None)\n",
        "    \n",
        "    # Below code gives percentage of null in every column\n",
        "    null_percentage = df.isnull().sum()/df.shape[0]*100\n",
        "    # Below code gives list of columns having more than 60% null\n",
        "    col_to_drop = null_percentage[null_percentage>60].keys()\n",
        "    df.drop(col_to_drop, axis=1,inplace=True)\n",
        "    \n",
        "    #Removing all the columns which are less than three.\n",
        "    df.drop(columns=[\"Street\"],inplace = True)\n",
        "    #Removing columns with high cardinality.\n",
        "    df.drop(columns=[\"Neighborhood\",\"Exterior2nd\",\"Utilities\",\"CentralAir\"],inplace=True)\n",
        "    print(col_to_drop)\n",
        "    return df\n"
      ],
      "metadata": {
        "id": "RPBZrOPO0Teu"
      },
      "execution_count": null,
      "outputs": []
    },
    {
      "cell_type": "code",
      "source": [
        "df = wrangle(\"/content/test.csv\")"
      ],
      "metadata": {
        "colab": {
          "base_uri": "https://localhost:8080/"
        },
        "id": "B-MHBK6n0WBb",
        "outputId": "f12c1884-dcfb-4581-e3d6-afa3db9be7b3"
      },
      "execution_count": null,
      "outputs": [
        {
          "output_type": "stream",
          "name": "stdout",
          "text": [
            "Index(['Alley', 'PoolQC', 'Fence', 'MiscFeature'], dtype='object')\n"
          ]
        }
      ]
    },
    {
      "cell_type": "code",
      "source": [
        "df.select_dtypes(\"object\").nunique()"
      ],
      "metadata": {
        "id": "SPWOIF3Q0kWX",
        "colab": {
          "base_uri": "https://localhost:8080/"
        },
        "outputId": "6a8037fa-1aba-4b49-b165-5aa3d2516599"
      },
      "execution_count": null,
      "outputs": [
        {
          "output_type": "execute_result",
          "data": {
            "text/plain": [
              "MSZoning          5\n",
              "LotShape          4\n",
              "LandContour       4\n",
              "LotConfig         5\n",
              "LandSlope         3\n",
              "Condition1        9\n",
              "Condition2        5\n",
              "BldgType          5\n",
              "HouseStyle        7\n",
              "RoofStyle         6\n",
              "RoofMatl          4\n",
              "Exterior1st      13\n",
              "MasVnrType        4\n",
              "ExterQual         4\n",
              "ExterCond         5\n",
              "Foundation        6\n",
              "BsmtQual          4\n",
              "BsmtCond          4\n",
              "BsmtExposure      4\n",
              "BsmtFinType1      6\n",
              "BsmtFinType2      6\n",
              "Heating           4\n",
              "HeatingQC         5\n",
              "Electrical        4\n",
              "KitchenQual       4\n",
              "Functional        7\n",
              "FireplaceQu       5\n",
              "GarageType        6\n",
              "GarageFinish      3\n",
              "GarageQual        4\n",
              "GarageCond        5\n",
              "PavedDrive        3\n",
              "SaleType          9\n",
              "SaleCondition     6\n",
              "dtype: int64"
            ]
          },
          "metadata": {},
          "execution_count": 131
        }
      ]
    },
    {
      "cell_type": "code",
      "source": [
        "na=df.isna().sum().sort_values(ascending=False)\n",
        "na"
      ],
      "metadata": {
        "id": "ms-ayDpP0v31",
        "colab": {
          "base_uri": "https://localhost:8080/"
        },
        "outputId": "4eca317b-86e5-4903-c06b-a226634b6a6a"
      },
      "execution_count": null,
      "outputs": [
        {
          "output_type": "execute_result",
          "data": {
            "text/plain": [
              "FireplaceQu      730\n",
              "LotFrontage      227\n",
              "GarageQual        78\n",
              "GarageCond        78\n",
              "GarageFinish      78\n",
              "                ... \n",
              "Electrical         0\n",
              "1stFlrSF           0\n",
              "2ndFlrSF           0\n",
              "LowQualFinSF       0\n",
              "SaleCondition      0\n",
              "Length: 71, dtype: int64"
            ]
          },
          "metadata": {},
          "execution_count": 132
        }
      ]
    },
    {
      "cell_type": "code",
      "source": [
        "df = df.replace(' ', np.nan)"
      ],
      "metadata": {
        "id": "9Nhtrfc24r_B"
      },
      "execution_count": null,
      "outputs": []
    },
    {
      "cell_type": "code",
      "source": [
        "cat=df.select_dtypes(\"object\")\n",
        "[df[x].replace(np.nan, 'NA', inplace=True) for x in cat.columns]"
      ],
      "metadata": {
        "id": "NiS31_ih4wzj",
        "colab": {
          "base_uri": "https://localhost:8080/"
        },
        "outputId": "2fd3dad6-43f1-42d8-ab0f-d0b6f022fecb"
      },
      "execution_count": null,
      "outputs": [
        {
          "output_type": "execute_result",
          "data": {
            "text/plain": [
              "[None,\n",
              " None,\n",
              " None,\n",
              " None,\n",
              " None,\n",
              " None,\n",
              " None,\n",
              " None,\n",
              " None,\n",
              " None,\n",
              " None,\n",
              " None,\n",
              " None,\n",
              " None,\n",
              " None,\n",
              " None,\n",
              " None,\n",
              " None,\n",
              " None,\n",
              " None,\n",
              " None,\n",
              " None,\n",
              " None,\n",
              " None,\n",
              " None,\n",
              " None,\n",
              " None,\n",
              " None,\n",
              " None,\n",
              " None,\n",
              " None,\n",
              " None,\n",
              " None,\n",
              " None]"
            ]
          },
          "metadata": {},
          "execution_count": 134
        }
      ]
    },
    {
      "cell_type": "code",
      "source": [
        "num_data=df.select_dtypes(\"int64\")\n",
        "[df[col].replace(np.nan,'0.0', inplace=True) for col in num_data]"
      ],
      "metadata": {
        "id": "2JEIyfnm5BMZ",
        "colab": {
          "base_uri": "https://localhost:8080/"
        },
        "outputId": "1a2a8200-70cd-4da6-9443-60ec3c743105"
      },
      "execution_count": null,
      "outputs": [
        {
          "output_type": "execute_result",
          "data": {
            "text/plain": [
              "[None,\n",
              " None,\n",
              " None,\n",
              " None,\n",
              " None,\n",
              " None,\n",
              " None,\n",
              " None,\n",
              " None,\n",
              " None,\n",
              " None,\n",
              " None,\n",
              " None,\n",
              " None,\n",
              " None,\n",
              " None,\n",
              " None,\n",
              " None,\n",
              " None,\n",
              " None,\n",
              " None,\n",
              " None,\n",
              " None,\n",
              " None,\n",
              " None,\n",
              " None]"
            ]
          },
          "metadata": {},
          "execution_count": 135
        }
      ]
    },
    {
      "cell_type": "code",
      "source": [
        "df[\"GarageYrBlt\"].replace(np.nan,'0.0', inplace=True)\n",
        "df[\"MasVnrArea\"].replace(np.nan,'None', inplace=True)"
      ],
      "metadata": {
        "id": "-GLhGwZW5ILr"
      },
      "execution_count": null,
      "outputs": []
    },
    {
      "cell_type": "code",
      "source": [
        "df.to_csv(\"PremierProject_Actuals.csv\")"
      ],
      "metadata": {
        "id": "AuiuDfk_mfVA"
      },
      "execution_count": null,
      "outputs": []
    },
    {
      "cell_type": "markdown",
      "source": [
        "Import Cleaned file"
      ],
      "metadata": {
        "id": "MIZ1TwMSFdVx"
      }
    },
    {
      "cell_type": "code",
      "source": [
        "df=pd.read_csv(\"PremierProject.csv\")"
      ],
      "metadata": {
        "id": "nS9O3ymImkSI"
      },
      "execution_count": null,
      "outputs": []
    },
    {
      "cell_type": "markdown",
      "source": [
        "Check unique values in ordinal features and convert them into numerical values"
      ],
      "metadata": {
        "id": "eROzKSzoFr8q"
      }
    },
    {
      "cell_type": "code",
      "source": [
        "df['FireplaceQu'].unique()"
      ],
      "metadata": {
        "colab": {
          "base_uri": "https://localhost:8080/"
        },
        "id": "pNlpg1VOlETV",
        "outputId": "25bcea23-bb76-40fb-e300-92d6cdf9640b"
      },
      "execution_count": null,
      "outputs": [
        {
          "output_type": "execute_result",
          "data": {
            "text/plain": [
              "array(['NA', 'TA', 'Gd', 'Fa', 'Ex', 'Po'], dtype=object)"
            ]
          },
          "metadata": {},
          "execution_count": 14
        }
      ]
    },
    {
      "cell_type": "code",
      "source": [
        "for col in ['KitchenQual','FireplaceQu','GarageQual', 'GarageCond','BsmtQual','BsmtCond',\n",
        "               'HeatingQC','ExterQual','ExterCond',]:\n",
        "    df[col] = df[col].replace({'Ex':5,'Gd':4,'TA': 3,'Fa': 2,'Po': 1,'NA':0}).fillna(0)"
      ],
      "metadata": {
        "id": "2W-eMxjM5PN-"
      },
      "execution_count": null,
      "outputs": []
    },
    {
      "cell_type": "markdown",
      "source": [
        "Convert float into int columns"
      ],
      "metadata": {
        "id": "fJP21GS4GAn_"
      }
    },
    {
      "cell_type": "code",
      "source": [
        "df[\"ExterCond\"]=df[\"ExterCond\"].astype(int)"
      ],
      "metadata": {
        "id": "pJRUoF-2u1Z7"
      },
      "execution_count": null,
      "outputs": []
    },
    {
      "cell_type": "markdown",
      "source": [
        "Check correlation \n"
      ],
      "metadata": {
        "id": "bMHvbH9KF6CL"
      }
    },
    {
      "cell_type": "code",
      "source": [
        "corr=df.corr()\n",
        "corr=corr.sort_values('SalePrice', ascending=False)\n",
        "plt.figure(figsize=(8,10))\n",
        "sns.barplot( corr.SalePrice[1:], corr.index[1:], orient='h')\n",
        "plt.show()"
      ],
      "metadata": {
        "colab": {
          "base_uri": "https://localhost:8080/",
          "height": 662
        },
        "id": "bgJbJpplmXWV",
        "outputId": "c07c7208-08eb-47c8-9a7c-efbca6f9a23f"
      },
      "execution_count": null,
      "outputs": [
        {
          "output_type": "stream",
          "name": "stderr",
          "text": [
            "/usr/local/lib/python3.8/dist-packages/seaborn/_decorators.py:36: FutureWarning: Pass the following variables as keyword args: x, y. From version 0.12, the only valid positional argument will be `data`, and passing other arguments without an explicit keyword will result in an error or misinterpretation.\n",
            "  warnings.warn(\n"
          ]
        },
        {
          "output_type": "display_data",
          "data": {
            "text/plain": [
              "<Figure size 576x720 with 1 Axes>"
            ],
            "image/png": "[encoded data removed]"
          },
          "metadata": {
            "needs_background": "light"
          }
        }
      ]
    },
    {
      "cell_type": "code",
      "source": [
        "df[\"MiscVal\"].unique()"
      ],
      "metadata": {
        "colab": {
          "base_uri": "https://localhost:8080/"
        },
        "id": "6CTw3_KhqTFC",
        "outputId": "41ca748e-397b-491d-bec7-6d1e0506b066"
      },
      "execution_count": null,
      "outputs": [
        {
          "output_type": "execute_result",
          "data": {
            "text/plain": [
              "array([    0,   700,   350,   500,   400,   480,   450, 15500,  1200,\n",
              "         800,  2000,   600,  3500,  1300,    54,   620,   560,  1400,\n",
              "        8300,  1150,  2500])"
            ]
          },
          "metadata": {},
          "execution_count": 88
        }
      ]
    },
    {
      "cell_type": "markdown",
      "source": [
        "Drop columns with unwanted correlation"
      ],
      "metadata": {
        "id": "9PCh8ZzNG4ZL"
      }
    },
    {
      "cell_type": "code",
      "source": [
        "df=df.drop([\"Id\",\"Unnamed: 0\"],axis=1)"
      ],
      "metadata": {
        "id": "d34gbO51GlwM"
      },
      "execution_count": null,
      "outputs": []
    },
    {
      "cell_type": "markdown",
      "source": [
        "Create Baseline model "
      ],
      "metadata": {
        "id": "JxHbUXCnG_Gk"
      }
    },
    {
      "cell_type": "code",
      "source": [
        "X=df.drop([\"SalePrice\"],axis=1)\n",
        "Y=df[\"SalePrice\"]\n",
        "from sklearn.model_selection import train_test_split\n",
        "X_train,X_test,y_train,y_test = train_test_split(X,Y,test_size=0.3,random_state=1)\n"
      ],
      "metadata": {
        "id": "p5Cl3R9e5auM"
      },
      "execution_count": null,
      "outputs": []
    },
    {
      "cell_type": "code",
      "source": [
        "y_mean = y_train.mean()\n",
        "y_mean"
      ],
      "metadata": {
        "id": "sTSQOB3a55Is",
        "colab": {
          "base_uri": "https://localhost:8080/"
        },
        "outputId": "100cba3b-16c2-4713-f232-08443b3e58d1"
      },
      "execution_count": null,
      "outputs": [
        {
          "output_type": "execute_result",
          "data": {
            "text/plain": [
              "181438.53424657535"
            ]
          },
          "metadata": {},
          "execution_count": 90
        }
      ]
    },
    {
      "cell_type": "code",
      "source": [
        "y_pred_baseline = [y_mean] * len(y_train)"
      ],
      "metadata": {
        "id": "9GPUHkN26frn"
      },
      "execution_count": null,
      "outputs": []
    },
    {
      "cell_type": "markdown",
      "source": [
        "Select features for xgboost and calculate the baseline mae"
      ],
      "metadata": {
        "id": "gjDFCS5THG7s"
      }
    },
    {
      "cell_type": "code",
      "source": [
        "X1=df.select_dtypes(\"int64\").drop([\"SalePrice\",\"Id\"],axis=1)\n",
        "Y1=df[\"SalePrice\"]\n",
        "\n"
      ],
      "metadata": {
        "id": "gKJkWzwf9v9b"
      },
      "execution_count": null,
      "outputs": []
    },
    {
      "cell_type": "code",
      "source": [
        "from sklearn.model_selection import train_test_split\n",
        "X_train,X_test,y_train,y_test = train_test_split(X1,Y1,test_size=0.3,random_state=1)"
      ],
      "metadata": {
        "id": "b6BNqBMU-HGs"
      },
      "execution_count": null,
      "outputs": []
    },
    {
      "cell_type": "code",
      "source": [
        "from sklearn.metrics import mean_absolute_error\n",
        "baseline_mae = mean_absolute_error(y_train,y_pred_baseline)\n",
        "print(\"Mean apt price:\", round(y_mean,2))\n",
        "print(\"Baseline MAE:\", round(baseline_mae,2))"
      ],
      "metadata": {
        "id": "Yxjnf_xh6hRD",
        "colab": {
          "base_uri": "https://localhost:8080/"
        },
        "outputId": "54460aa2-789f-4944-eed6-9971730a2f67"
      },
      "execution_count": null,
      "outputs": [
        {
          "output_type": "stream",
          "name": "stdout",
          "text": [
            "Mean apt price: 181438.53\n",
            "Baseline MAE: 56108.37\n"
          ]
        }
      ]
    },
    {
      "cell_type": "code",
      "source": [
        "from xgboost import XGBRegressor\n",
        "model = XGBRegressor(n_estimators = 4000, learning_rate = 0.005, max_depth = 5, colsample_bytree = 0.3, gamma = 0)\n",
        "\n",
        "model.fit(X_train, y_train)\n",
        "\n",
        "y_pred_xgb=model.predict(X_test)"
      ],
      "metadata": {
        "id": "YFSFIANh6ok5",
        "colab": {
          "base_uri": "https://localhost:8080/"
        },
        "outputId": "69160d25-94e9-4bac-f129-0cb8a20373d0"
      },
      "execution_count": null,
      "outputs": [
        {
          "output_type": "stream",
          "name": "stdout",
          "text": [
            "[11:21:45] WARNING: /workspace/src/objective/regression_obj.cu:152: reg:linear is now deprecated in favor of reg:squarederror.\n"
          ]
        }
      ]
    },
    {
      "cell_type": "markdown",
      "source": [
        "mae and rmse for xgboost is well below baseline"
      ],
      "metadata": {
        "id": "7rQqKJFZH655"
      }
    },
    {
      "cell_type": "code",
      "source": [
        "mae_xgb=mean_absolute_error(y_test,y_pred_xgb)\n",
        "mae_xgb"
      ],
      "metadata": {
        "id": "Ae8mIZEn-ehP",
        "colab": {
          "base_uri": "https://localhost:8080/"
        },
        "outputId": "1aad5c54-7363-4e3c-c2b0-4ea49e10f60c"
      },
      "execution_count": null,
      "outputs": [
        {
          "output_type": "execute_result",
          "data": {
            "text/plain": [
              "15556.89887450057"
            ]
          },
          "metadata": {},
          "execution_count": 171
        }
      ]
    },
    {
      "cell_type": "code",
      "source": [
        "from sklearn.metrics import mean_squared_error\n",
        "\n",
        "rmse = np.sqrt(mean_squared_error(y_test, y_pred_xgb))\n",
        "rmse"
      ],
      "metadata": {
        "id": "9Ic8G8VXCzMz",
        "colab": {
          "base_uri": "https://localhost:8080/"
        },
        "outputId": "53265d8d-7eeb-4fcd-d2b7-159a6145b2a5"
      },
      "execution_count": null,
      "outputs": [
        {
          "output_type": "execute_result",
          "data": {
            "text/plain": [
              "23647.402986560424"
            ]
          },
          "metadata": {},
          "execution_count": 172
        }
      ]
    },
    {
      "cell_type": "markdown",
      "source": [
        "Fit and residuals are reasonable for xgb:"
      ],
      "metadata": {
        "id": "wWmpAxSoILF0"
      }
    },
    {
      "cell_type": "code",
      "source": [
        "plt.scatter(y_pred_xgb, y_test, c = \"blue\", marker = \"s\", label = \"Training House Prices\")\n",
        "plt.title(\"XGB regression\")\n",
        "plt.xlabel(\"Predicted House Prices\")\n",
        "plt.ylabel(\"Real House Prices\")\n",
        "plt.plot([0, 600000], [0, 600000], c = \"red\")\n",
        "plt.show()"
      ],
      "metadata": {
        "id": "sTVOdMcHK-5l",
        "colab": {
          "base_uri": "https://localhost:8080/",
          "height": 295
        },
        "outputId": "36309b10-4672-4437-faec-ce105f623f6c"
      },
      "execution_count": null,
      "outputs": [
        {
          "output_type": "display_data",
          "data": {
            "text/plain": [
              "<Figure size 432x288 with 1 Axes>"
            ],
            "image/png": "[encoded data removed]"
          },
          "metadata": {
            "needs_background": "light"
          }
        }
      ]
    },
    {
      "cell_type": "code",
      "source": [
        "plt.scatter(y_test, y_test - y_pred_xgb, c = \"blue\", marker = \"s\", label = \"Training data\")\n",
        "plt.title(\"Residuals after XGBregression\")\n",
        "plt.xlabel(\"Predicted values\")\n",
        "plt.ylabel(\"Residuals\")\n",
        "plt.hlines(y = 0, xmin = 0, xmax = 700000, color = \"red\")\n",
        "plt.show()"
      ],
      "metadata": {
        "id": "JVQ_ZiubeO9B",
        "colab": {
          "base_uri": "https://localhost:8080/",
          "height": 295
        },
        "outputId": "f527b17f-926b-482e-a205-02165af642c8"
      },
      "execution_count": null,
      "outputs": [
        {
          "output_type": "display_data",
          "data": {
            "text/plain": [
              "<Figure size 432x288 with 1 Axes>"
            ],
            "image/png": "[encoded data removed]"
          },
          "metadata": {
            "needs_background": "light"
          }
        }
      ]
    },
    {
      "cell_type": "markdown",
      "source": [
        "Feature weights assigned by the model:"
      ],
      "metadata": {
        "id": "vGiNtGZlIZgk"
      }
    },
    {
      "cell_type": "code",
      "source": [
        "hashmap=model.get_booster().get_score(importance_type='gain')\n",
        "sorted_hm=sorted(hashmap.items(),key=lambda x:x[1],reverse =True)\n",
        "plt.figure(figsize=(15,20))\n",
        "x=[e[0]for e in sorted_hm]\n",
        "y=[e[1]for e in sorted_hm]\n",
        "sns.barplot(y,x)"
      ],
      "metadata": {
        "colab": {
          "base_uri": "https://localhost:8080/",
          "height": 1000
        },
        "id": "Mrja0seKaioq",
        "outputId": "498ae98f-a8a9-46b7-a347-06974b0dae89"
      },
      "execution_count": null,
      "outputs": [
        {
          "output_type": "stream",
          "name": "stderr",
          "text": [
            "/usr/local/lib/python3.8/dist-packages/seaborn/_decorators.py:36: FutureWarning: Pass the following variables as keyword args: x, y. From version 0.12, the only valid positional argument will be `data`, and passing other arguments without an explicit keyword will result in an error or misinterpretation.\n",
            "  warnings.warn(\n"
          ]
        },
        {
          "output_type": "execute_result",
          "data": {
            "text/plain": [
              "<matplotlib.axes._subplots.AxesSubplot at 0x7f15e9e71cd0>"
            ]
          },
          "metadata": {},
          "execution_count": 175
        },
        {
          "output_type": "display_data",
          "data": {
            "text/plain": [
              "<Figure size 1080x1440 with 1 Axes>"
            ],
            "image/png": "[encoded data removed]"
          },
          "metadata": {
            "needs_background": "light"
          }
        }
      ]
    },
    {
      "cell_type": "code",
      "source": [
        "x=list(X1.columns)\n",
        "x"
      ],
      "metadata": {
        "colab": {
          "base_uri": "https://localhost:8080/"
        },
        "id": "gvrhsKMnE5Vk",
        "outputId": "8d6b3798-083d-49d8-f0e8-490dbf31f57f"
      },
      "execution_count": null,
      "outputs": [
        {
          "output_type": "execute_result",
          "data": {
            "text/plain": [
              "['MSSubClass',\n",
              " 'LotArea',\n",
              " 'OverallQual',\n",
              " 'OverallCond',\n",
              " 'YearBuilt',\n",
              " 'YearRemodAdd',\n",
              " 'ExterQual',\n",
              " 'ExterCond',\n",
              " 'BsmtQual',\n",
              " 'BsmtCond',\n",
              " 'BsmtFinSF1',\n",
              " 'BsmtFinSF2',\n",
              " 'BsmtUnfSF',\n",
              " 'TotalBsmtSF',\n",
              " 'HeatingQC',\n",
              " '1stFlrSF',\n",
              " '2ndFlrSF',\n",
              " 'LowQualFinSF',\n",
              " 'GrLivArea',\n",
              " 'BsmtFullBath',\n",
              " 'BsmtHalfBath',\n",
              " 'FullBath',\n",
              " 'HalfBath',\n",
              " 'BedroomAbvGr',\n",
              " 'KitchenAbvGr',\n",
              " 'KitchenQual',\n",
              " 'TotRmsAbvGrd',\n",
              " 'Fireplaces',\n",
              " 'FireplaceQu',\n",
              " 'GarageCars',\n",
              " 'GarageArea',\n",
              " 'GarageQual',\n",
              " 'GarageCond',\n",
              " 'WoodDeckSF',\n",
              " 'OpenPorchSF',\n",
              " 'EnclosedPorch',\n",
              " '3SsnPorch',\n",
              " 'ScreenPorch',\n",
              " 'PoolArea',\n",
              " 'MiscVal',\n",
              " 'MoSold',\n",
              " 'YrSold']"
            ]
          },
          "metadata": {},
          "execution_count": 196
        }
      ]
    },
    {
      "cell_type": "code",
      "source": [
        "test=pd.DataFrame({e:0 for e in x},index=range(len(x)))\n",
        "predicted_new=model.predict(test)"
      ],
      "metadata": {
        "id": "eNty8Ni_E_8G"
      },
      "execution_count": null,
      "outputs": []
    },
    {
      "cell_type": "code",
      "source": [
        "predicted_new"
      ],
      "metadata": {
        "colab": {
          "base_uri": "https://localhost:8080/"
        },
        "id": "k1JWffDcHBx8",
        "outputId": "83666d84-43b9-44fa-f738-1a4e46850f28"
      },
      "execution_count": null,
      "outputs": [
        {
          "output_type": "execute_result",
          "data": {
            "text/plain": [
              "array([31722.756, 31722.756, 31722.756, 31722.756, 31722.756, 31722.756,\n",
              "       31722.756, 31722.756, 31722.756, 31722.756, 31722.756, 31722.756,\n",
              "       31722.756, 31722.756, 31722.756, 31722.756, 31722.756, 31722.756,\n",
              "       31722.756, 31722.756, 31722.756, 31722.756, 31722.756, 31722.756,\n",
              "       31722.756, 31722.756, 31722.756, 31722.756, 31722.756, 31722.756,\n",
              "       31722.756, 31722.756, 31722.756, 31722.756, 31722.756, 31722.756,\n",
              "       31722.756, 31722.756, 31722.756, 31722.756, 31722.756, 31722.756],\n",
              "      dtype=float32)"
            ]
          },
          "metadata": {},
          "execution_count": 195
        }
      ]
    },
    {
      "cell_type": "code",
      "source": [
        "X1.iloc[0]"
      ],
      "metadata": {
        "colab": {
          "base_uri": "https://localhost:8080/"
        },
        "id": "XQTr_LlUF0jD",
        "outputId": "983d69ee-1888-4251-b394-521d8e599e7c"
      },
      "execution_count": null,
      "outputs": [
        {
          "output_type": "execute_result",
          "data": {
            "text/plain": [
              "MSSubClass         60\n",
              "LotArea          8450\n",
              "OverallQual         7\n",
              "OverallCond         5\n",
              "YearBuilt        2003\n",
              "YearRemodAdd     2003\n",
              "ExterQual           4\n",
              "ExterCond           3\n",
              "BsmtQual            4\n",
              "BsmtCond            3\n",
              "BsmtFinSF1        706\n",
              "BsmtFinSF2          0\n",
              "BsmtUnfSF         150\n",
              "TotalBsmtSF       856\n",
              "HeatingQC           5\n",
              "1stFlrSF          856\n",
              "2ndFlrSF          854\n",
              "LowQualFinSF        0\n",
              "GrLivArea        1710\n",
              "BsmtFullBath        1\n",
              "BsmtHalfBath        0\n",
              "FullBath            2\n",
              "HalfBath            1\n",
              "BedroomAbvGr        3\n",
              "KitchenAbvGr        1\n",
              "KitchenQual         4\n",
              "TotRmsAbvGrd        8\n",
              "Fireplaces          0\n",
              "FireplaceQu         0\n",
              "GarageCars          2\n",
              "GarageArea        548\n",
              "GarageQual          3\n",
              "GarageCond          3\n",
              "WoodDeckSF          0\n",
              "OpenPorchSF        61\n",
              "EnclosedPorch       0\n",
              "3SsnPorch           0\n",
              "ScreenPorch         0\n",
              "PoolArea            0\n",
              "MiscVal             0\n",
              "MoSold              2\n",
              "YrSold           2008\n",
              "Name: 0, dtype: int64"
            ]
          },
          "metadata": {},
          "execution_count": 190
        }
      ]
    },
    {
      "cell_type": "markdown",
      "source": [
        "Lasso Regression gives a reasonable result:"
      ],
      "metadata": {
        "id": "QY4bJYYxJVzX"
      }
    },
    {
      "cell_type": "code",
      "source": [
        "from sklearn.linear_model import Lasso\n",
        "model_lasso=Lasso(alpha = 0.001, random_state=1)\n",
        "\n"
      ],
      "metadata": {
        "id": "Np7tEDoGD0z8"
      },
      "execution_count": null,
      "outputs": []
    },
    {
      "cell_type": "code",
      "source": [
        "model_lasso.fit(X_train,y_train)\n",
        "y_pred_lasso=model_lasso.predict(X_test)"
      ],
      "metadata": {
        "id": "TUUC2uWGiOct",
        "colab": {
          "base_uri": "https://localhost:8080/"
        },
        "outputId": "6dd21157-e68d-45d0-95b4-6b69a2e423b2"
      },
      "execution_count": null,
      "outputs": [
        {
          "output_type": "stream",
          "name": "stderr",
          "text": [
            "/usr/local/lib/python3.8/dist-packages/sklearn/linear_model/_coordinate_descent.py:647: ConvergenceWarning: Objective did not converge. You might want to increase the number of iterations, check the scale of the features or consider increasing regularisation. Duality gap: 6.478e+10, tolerance: 6.080e+08\n",
            "  model = cd_fast.enet_coordinate_descent(\n"
          ]
        }
      ]
    },
    {
      "cell_type": "code",
      "source": [
        "mae_lasso=mean_absolute_error(y_test,y_pred_lasso)\n",
        "mae_lasso"
      ],
      "metadata": {
        "colab": {
          "base_uri": "https://localhost:8080/"
        },
        "id": "7lrzYS_lM72c",
        "outputId": "62613648-944f-4b3e-e110-b9cbc954e3e1"
      },
      "execution_count": null,
      "outputs": [
        {
          "output_type": "execute_result",
          "data": {
            "text/plain": [
              "21087.319540552497"
            ]
          },
          "metadata": {},
          "execution_count": 180
        }
      ]
    },
    {
      "cell_type": "code",
      "source": [
        "rmse_l = np.sqrt(mean_squared_error(y_test, y_pred_lasso))\n",
        "rmse_l"
      ],
      "metadata": {
        "colab": {
          "base_uri": "https://localhost:8080/"
        },
        "id": "5Wv17aMFNIOj",
        "outputId": "3afc64db-cdfc-44b4-84c8-23b83ca115e8"
      },
      "execution_count": null,
      "outputs": [
        {
          "output_type": "execute_result",
          "data": {
            "text/plain": [
              "33955.49056677872"
            ]
          },
          "metadata": {},
          "execution_count": 181
        }
      ]
    },
    {
      "cell_type": "code",
      "source": [
        "plt.scatter(y_pred_lasso, y_test, c = \"blue\", marker = \"s\", label = \"Training House Prices\")\n",
        "plt.title(\"Lasso regression\")\n",
        "plt.xlabel(\"Predicted House Prices\")\n",
        "plt.ylabel(\"Real House Prices\")\n",
        "plt.plot([0, 700000], [0, 700000], c = \"red\")\n",
        "plt.show()"
      ],
      "metadata": {
        "colab": {
          "base_uri": "https://localhost:8080/",
          "height": 295
        },
        "id": "wwK_y5jwNjK-",
        "outputId": "cca7122e-71a6-46ab-d70f-9980aa7ffea0"
      },
      "execution_count": null,
      "outputs": [
        {
          "output_type": "display_data",
          "data": {
            "text/plain": [
              "<Figure size 432x288 with 1 Axes>"
            ],
            "image/png": "[encoded data removed]"
          },
          "metadata": {
            "needs_background": "light"
          }
        }
      ]
    },
    {
      "cell_type": "code",
      "source": [
        "plt.scatter(y_test, y_test - y_pred_lasso, c = \"blue\", marker = \"s\", label = \"Training data\")\n",
        "plt.title(\"Residuals after Lasso regression\")\n",
        "plt.xlabel(\"Predicted values\")\n",
        "plt.ylabel(\"Residuals\")\n",
        "plt.hlines(y = 0, xmin = 0, xmax = 700000, color = \"red\")\n",
        "plt.show()"
      ],
      "metadata": {
        "colab": {
          "base_uri": "https://localhost:8080/",
          "height": 295
        },
        "id": "G-MxUdrWNxf6",
        "outputId": "c767e966-8122-4d8b-8597-f6851878616e"
      },
      "execution_count": null,
      "outputs": [
        {
          "output_type": "display_data",
          "data": {
            "text/plain": [
              "<Figure size 432x288 with 1 Axes>"
            ],
            "image/png": "[encoded data removed]"
          },
          "metadata": {
            "needs_background": "light"
          }
        }
      ]
    }
  ]
}